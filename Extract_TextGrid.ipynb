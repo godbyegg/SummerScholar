{
 "cells": [
  {
   "cell_type": "code",
   "execution_count": 9,
   "metadata": {},
   "outputs": [],
   "source": [
    "import numpy as np\n",
    "import pandas as pd\n",
    "import os"
   ]
  },
  {
   "cell_type": "code",
   "execution_count": 2,
   "metadata": {},
   "outputs": [],
   "source": [
    "def scan_file(path):\n",
    "    files_list=[]\n",
    "    for dirpath,dirnames,filenames in os.walk(path):\n",
    "        for special_file in filenames:\n",
    "            if special_file.endswith(\".tsv\"):\n",
    "                files_list.append(os.path.join(dirpath,special_file))                                        \n",
    "    return files_list"
   ]
  },
  {
   "cell_type": "code",
   "execution_count": 3,
   "metadata": {},
   "outputs": [],
   "source": [
    "def read_tsv(path):\n",
    "    df = pd.read_csv(path,sep='\\t')\n",
    "    speakers = []\n",
    "    for i in df[\"w_spkr\"]:\n",
    "        if not (i in speakers):\n",
    "            speakers.append(i)\n",
    "    tier = {}\n",
    "    for i in speakers:\n",
    "        tier[i]=[]\n",
    "        mask = df[\"w_spkr\"]==i\n",
    "        for j in df[mask].index:\n",
    "            a =[]\n",
    "            a.append(df[\"tx\"][j])\n",
    "            a.append(df[\"int_tc\"][j])\n",
    "            tier[i].append(a)\n",
    "    for i in tier.keys():\n",
    "        new_path = path.replace(\".TextGrid\",\"\")+\"-\" + i +\".TextGrid\"\n",
    "        intervals = len(tier[i])\n",
    "        xmin = tier[i][0][1].split(\",\")[0]\n",
    "        xmax = tier[i][len(tier[i])-1][1].split(\",\")[1]\n",
    "        write_TextGrid(new_path,tier[i],xmin,xmax,intervals)"
   ]
  },
  {
   "cell_type": "code",
   "execution_count": 4,
   "metadata": {},
   "outputs": [],
   "source": [
    "def write_TextGrid(path,content,xmin,xmax,intervals):\n",
    "    with open(path,\"w\") as F:\n",
    "        F.write(\"File type = \\\"ooTextFile\\\"\\nObject class = \\\"TextGrid\\\"\\n\\nxmin = \"+xmin+\"\\nxmax = \" + xmax +\"\\n\")\n",
    "        F.write(\"tiers? <exists>\\nsize = 1\\nitem []:\\n\\titem[1]:\\n\\t\\tclass = \\\"IntervalTier\\\"\\n\\t\\tname = \\\"tx@tier\\\"\\n\\t\\txmin = \" + xmin + \"\\n\\t\\txmax = \" + xmax +\"\\n\")\n",
    "        F.write(\"\\t\\tintervals: size = \"+str(intervals)+\"\\n\")\n",
    "        for i in range(0,intervals):\n",
    "            F.write(\"\\t\\tintervals [\"+str(i+1)+\"]\\n\")\n",
    "            time = content[i][1].split(\",\")\n",
    "            F.write(\"\\t\\t\\txmin = \"+str(time[0])+\"\\n\\t\\t\\txmax = \" + str(time[1]) +\"\\n\\t\\t\\ttext = \\\"\"+ str(content[i][0])+\"\\\"\\n\")"
   ]
  },
  {
   "cell_type": "code",
   "execution_count": 6,
   "metadata": {},
   "outputs": [],
   "source": [
    "def main(path):\n",
    "    files_list=[]\n",
    "    files_list = scan_file(path)\n",
    "    for  i in files_list:\n",
    "        read_tsv(i)"
   ]
  },
  {
   "cell_type": "code",
   "execution_count": 7,
   "metadata": {},
   "outputs": [],
   "source": [
    "path = r\"E:\\summerscholar\\PhilipNotAligned\\test\""
   ]
  },
  {
   "cell_type": "code",
   "execution_count": 10,
   "metadata": {},
   "outputs": [],
   "source": [
    "main(path)"
   ]
  },
  {
   "cell_type": "code",
   "execution_count": null,
   "metadata": {},
   "outputs": [],
   "source": []
  },
  {
   "cell_type": "code",
   "execution_count": 39,
   "metadata": {},
   "outputs": [],
   "source": []
  }
 ],
 "metadata": {
  "kernelspec": {
   "display_name": "Python 3",
   "language": "python",
   "name": "python3"
  },
  "language_info": {
   "codemirror_mode": {
    "name": "ipython",
    "version": 3
   },
   "file_extension": ".py",
   "mimetype": "text/x-python",
   "name": "python",
   "nbconvert_exporter": "python",
   "pygments_lexer": "ipython3",
   "version": "3.6.5"
  }
 },
 "nbformat": 4,
 "nbformat_minor": 2
}
