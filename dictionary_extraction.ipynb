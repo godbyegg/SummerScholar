{
 "cells": [
  {
   "cell_type": "code",
   "execution_count": 10,
   "metadata": {},
   "outputs": [],
   "source": [
    "import pandas as pd\n",
    "import os\n",
    "import numpy as np\n",
    "import matplotlib.pyplot as plt"
   ]
  },
  {
   "cell_type": "code",
   "execution_count": 11,
   "metadata": {},
   "outputs": [],
   "source": [
    "def word(word):\n",
    "    result =\"\"\n",
    "    for char in word:\n",
    "        result = result = result + char+ \" \"\n",
    "    if \"ng\" in word:\n",
    "        result = result.replace(\"n g\",\"ng\")\n",
    "    if \"ny\" in word:\n",
    "        result = result.replace(\"n y\",\"ny\")\n",
    "    if \"yn\" in word:\n",
    "        result = result.replace(\"y n\",\"yn\")\n",
    "    if \"ly\" in word:\n",
    "        result = result.replace(\"l y\",\"ly\")\n",
    "    if \"yl\" in word:\n",
    "        result = result.replace(\"y l\",\"yl\")\n",
    "    return result"
   ]
  },
  {
   "cell_type": "code",
   "execution_count": 12,
   "metadata": {},
   "outputs": [],
   "source": [
    "def scan_file(path):\n",
    "    files_list=[]\n",
    "    for dirpath,dirnames,filenames in os.walk(path):\n",
    "        for special_file in filenames:\n",
    "            if special_file.startswith(\"2\"):\n",
    "                files_list.append(os.path.join(dirpath,special_file))                                        \n",
    "    return files_list"
   ]
  },
  {
   "cell_type": "code",
   "execution_count": 13,
   "metadata": {},
   "outputs": [],
   "source": [
    "def dictE(files_list):\n",
    "    dict = {}\n",
    "    for path in files_list:\n",
    "        with open(path) as textFile:\n",
    "            for i, line in enumerate(textFile):\n",
    "                if line.split(\" \")[0] == \"\\\\tx\" :\n",
    "                    for k in line.split(\" \"):\n",
    "                        if k != \"\\\\tx\":\n",
    "                            k = k.replace(\"\\n\",\"\")\n",
    "                            value=\"\"\n",
    "                            for char in k:\n",
    "                                value = value + char +\" \"\n",
    "                            dict[k] = value.strip()\n",
    "    return dict"
   ]
  },
  {
   "cell_type": "code",
   "execution_count": 14,
   "metadata": {},
   "outputs": [],
   "source": [
    "def dictE_clean(files_list):\n",
    "    dict = {}\n",
    "    for path in files_list:\n",
    "        with open(path) as textFile:\n",
    "            for i, line in enumerate(textFile):\n",
    "                if line.split(\" \")[0] == \"\\\\tx\" :\n",
    "                    for k in line.split(\" \"):\n",
    "                        if k != \"\\\\tx\":\n",
    "                            k = k.replace(\"\\n\",\"\")\n",
    "                            for j in k:\n",
    "                                if not(j.isalpha() | j.isspace() | j.isdigit()):\n",
    "                                    k = k.replace(j,\"\")\n",
    "                            value = word(k)\n",
    "                            if len(k)>0:\n",
    "                                dict[k] = value.strip()\n",
    "    return dict"
   ]
  },
  {
   "cell_type": "code",
   "execution_count": 239,
   "metadata": {},
   "outputs": [],
   "source": [
    "path = r\"C:\\Users\\Brainless\\Desktop\\summerscholar\\textFile\""
   ]
  },
  {
   "cell_type": "code",
   "execution_count": 245,
   "metadata": {},
   "outputs": [],
   "source": [
    "files_list=[]\n",
    "files_list = scan_file(path)\n",
    "dict={}\n",
    "dict = sorted(dictE(files_list).items(),key = lambda k:k[0])\n",
    "\n",
    "\n",
    "dict_clean = {}\n",
    "dict_clean = sorted(dictE_clean(files_list).items(),key = lambda k:k[0])"
   ]
  },
  {
   "cell_type": "code",
   "execution_count": 223,
   "metadata": {},
   "outputs": [],
   "source": [
    "dict = sorted(dictE(files_list).items(),key = lambda k:k[0])\n",
    "with open(path+\"dictionary.txt\",\"w\") as f:\n",
    "    for i in dict:\n",
    "        f.write(str(i) + \":\" + str(dict[i])+\"\\n\")\n",
    "with open(p)"
   ]
  },
  {
   "cell_type": "code",
   "execution_count": 228,
   "metadata": {},
   "outputs": [],
   "source": [
    "a = \"ne- moluk\""
   ]
  },
  {
   "cell_type": "code",
   "execution_count": 15,
   "metadata": {},
   "outputs": [],
   "source": [
    "path = r\"E:\\summerscholar\\textFile\\text\""
   ]
  },
  {
   "cell_type": "code",
   "execution_count": 16,
   "metadata": {},
   "outputs": [],
   "source": [
    "files = os.listdir(path)"
   ]
  },
  {
   "cell_type": "code",
   "execution_count": 19,
   "metadata": {},
   "outputs": [],
   "source": [
    "def dictE(path):\n",
    "    dict = {}\n",
    "    freq = {}\n",
    "    files = os.listdir(path)\n",
    "    for file in files:\n",
    "        df = pd.read_csv(path+\"/\"+file,sep = '\\t')\n",
    "        tx = df[\"tx\"]\n",
    "        for i in tx:\n",
    "            if i == i:\n",
    "                k = i.split(\" \")\n",
    "                for x in k:\n",
    "                    for j in x:\n",
    "                        if not(j.isalpha() | j.isspace() | j.isdigit()):\n",
    "                            x = x.replace(j,\"\")\n",
    "                    value = word(x)\n",
    "                    if len(x)>0:\n",
    "                        dict[x] = value.strip()\n",
    "                        if x in freq:\n",
    "                            freq[x] = freq[x]+1\n",
    "                        else:\n",
    "                            freq[x] = 1\n",
    "    return dict"
   ]
  },
  {
   "cell_type": "code",
   "execution_count": 20,
   "metadata": {},
   "outputs": [
    {
     "name": "stderr",
     "output_type": "stream",
     "text": [
      "D:\\Users\\Brainless\\Anaconda3\\lib\\site-packages\\IPython\\core\\interactiveshell.py:2903: DtypeWarning: Columns (10,23) have mixed types. Specify dtype option on import or set low_memory=False.\n",
      "  if self.run_code(code, result):\n",
      "D:\\Users\\Brainless\\Anaconda3\\lib\\site-packages\\IPython\\core\\interactiveshell.py:2903: DtypeWarning: Columns (23) have mixed types. Specify dtype option on import or set low_memory=False.\n",
      "  if self.run_code(code, result):\n"
     ]
    }
   ],
   "source": [
    "dict = sorted(dictE(path).items(),key = lambda k:k[0])\n",
    "\n",
    "with open(path+\"dictionary.txt\",\"w\") as f:\n",
    "    for i in dict:\n",
    "        f.write(str(i[0]) + \" \" + str(i[1])+\"\\n\")"
   ]
  },
  {
   "cell_type": "code",
   "execution_count": 47,
   "metadata": {},
   "outputs": [],
   "source": [
    "a = {}\n",
    "with open(r\"E:\\summerscholar\\lexicon.txt\") as F:\n",
    "    for i,line in enumerate(F):\n",
    "        line_list = line.split(\"\\t\")\n",
    "        if len(line_list) == 1: \n",
    "            a[line_list[0]] = line_list[0]\n",
    "        else:\n",
    "            a[line_list[0]] = line_list[1]"
   ]
  },
  {
   "cell_type": "code",
   "execution_count": 26,
   "metadata": {},
   "outputs": [
    {
     "name": "stderr",
     "output_type": "stream",
     "text": [
      "D:\\Users\\Brainless\\Anaconda3\\lib\\site-packages\\IPython\\core\\interactiveshell.py:2903: DtypeWarning: Columns (10,23) have mixed types. Specify dtype option on import or set low_memory=False.\n",
      "  if self.run_code(code, result):\n",
      "D:\\Users\\Brainless\\Anaconda3\\lib\\site-packages\\IPython\\core\\interactiveshell.py:2903: DtypeWarning: Columns (23) have mixed types. Specify dtype option on import or set low_memory=False.\n",
      "  if self.run_code(code, result):\n"
     ]
    }
   ],
   "source": [
    "dict = {}\n",
    "freq = {}\n",
    "dict,freq = dictE(r\"E:\\summerscholar\\textFile\\text\")"
   ]
  },
  {
   "cell_type": "code",
   "execution_count": 61,
   "metadata": {},
   "outputs": [],
   "source": [
    "num = np.zeros(20)\n",
    "for i in freq:\n",
    "    if freq[i] >= 20:\n",
    "    else:\n",
    "        num[freq[i]] = num[freq[i]] +1"
   ]
  },
  {
   "cell_type": "code",
   "execution_count": 65,
   "metadata": {},
   "outputs": [],
   "source": [
    "num[0] = len(freq)\n",
    "for i in range(1,len(num)):\n",
    "    num[i] = num[i-1]-num[i]"
   ]
  },
  {
   "cell_type": "code",
   "execution_count": 70,
   "metadata": {},
   "outputs": [],
   "source": [
    "x = np.arange(20)"
   ]
  },
  {
   "cell_type": "code",
   "execution_count": 71,
   "metadata": {},
   "outputs": [
    {
     "data": {
      "text/plain": [
       "array([ 0,  1,  2,  3,  4,  5,  6,  7,  8,  9, 10, 11, 12, 13, 14, 15, 16,\n",
       "       17, 18, 19])"
      ]
     },
     "execution_count": 71,
     "metadata": {},
     "output_type": "execute_result"
    }
   ],
   "source": [
    "x"
   ]
  },
  {
   "cell_type": "code",
   "execution_count": 72,
   "metadata": {},
   "outputs": [
    {
     "data": {
      "text/plain": [
       "[<matplotlib.lines.Line2D at 0x2640e11d198>]"
      ]
     },
     "execution_count": 72,
     "metadata": {},
     "output_type": "execute_result"
    },
    {
     "data": {
      "image/png": "[encoded data removed]",
      "text/plain": [
       "<Figure size 432x288 with 1 Axes>"
      ]
     },
     "metadata": {},
     "output_type": "display_data"
    }
   ],
   "source": [
    "plt.plot(x,num)"
   ]
  },
  {
   "cell_type": "code",
   "execution_count": 86,
   "metadata": {},
   "outputs": [
    {
     "name": "stdout",
     "output_type": "stream",
     "text": [
      "151\n"
     ]
    }
   ],
   "source": [
    "n = 0\n",
    "for i in freq:\n",
    "    if freq[i] == 13:\n",
    "        n = n+1\n",
    "print(n)"
   ]
  },
  {
   "cell_type": "code",
   "execution_count": 9,
   "metadata": {},
   "outputs": [
    {
     "data": {
      "text/plain": [
       "'a b ng '"
      ]
     },
     "execution_count": 9,
     "metadata": {},
     "output_type": "execute_result"
    }
   ],
   "source": [
    "word(\"abng\")"
   ]
  },
  {
   "cell_type": "code",
   "execution_count": 7,
   "metadata": {},
   "outputs": [
    {
     "data": {
      "text/plain": [
       "True"
      ]
     },
     "execution_count": 7,
     "metadata": {},
     "output_type": "execute_result"
    }
   ],
   "source": [
    "\"ng\" in \"abng\""
   ]
  }
 ],
 "metadata": {
  "kernelspec": {
   "display_name": "Python 3",
   "language": "python",
   "name": "python3"
  },
  "language_info": {
   "codemirror_mode": {
    "name": "ipython",
    "version": 3
   },
   "file_extension": ".py",
   "mimetype": "text/x-python",
   "name": "python",
   "nbconvert_exporter": "python",
   "pygments_lexer": "ipython3",
   "version": "3.6.5"
  }
 },
 "nbformat": 4,
 "nbformat_minor": 2
}
